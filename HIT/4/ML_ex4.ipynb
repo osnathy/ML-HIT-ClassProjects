{
 "cells": [
  {
   "cell_type": "markdown",
   "metadata": {},
   "source": [
    "## Machine Learning - Ex.4\n",
    "\n",
    "Submitted by: [Osnat Haj Yahia]"
   ]
  },
  {
   "cell_type": "code",
   "execution_count": 1,
   "metadata": {
    "collapsed": false
   },
   "outputs": [
    {
     "name": "stderr",
     "output_type": "stream",
     "text": [
      "C:\\Users\\osnath\\AppData\\Local\\Continuum\\Anaconda3\\lib\\site-packages\\sklearn\\cross_validation.py:44: DeprecationWarning: This module was deprecated in version 0.18 in favor of the model_selection module into which all the refactored classes and functions are moved. Also note that the interface of the new CV iterators are different from that of this module. This module will be removed in 0.20.\n",
      "  \"This module will be removed in 0.20.\", DeprecationWarning)\n"
     ]
    }
   ],
   "source": [
    "%matplotlib inline\n",
    "\n",
    "import numpy as np\n",
    "from sklearn.cross_validation import train_test_split \n",
    "import matplotlib.pyplot as plt"
   ]
  },
  {
   "cell_type": "markdown",
   "metadata": {},
   "source": [
    "### Multi class classification \n",
    "\n",
    "In this exercise we will try to learn the DIGITS dataset. \n",
    "The dataset contains almost 2000 examples of hand written digits:\n",
    "$$y_i\\in\\{0,1,2,...,9\\}$$\n",
    "each sample is represented by a 64 features vector (bitmap of 8x8 pixels):\n",
    "$$x_i\\in R^{64}$$\n",
    "\n"
   ]
  },
  {
   "cell_type": "code",
   "execution_count": 2,
   "metadata": {
    "collapsed": false
   },
   "outputs": [
    {
     "name": "stdout",
     "output_type": "stream",
     "text": [
      "(1797, 64)\n",
      "(1797,)\n"
     ]
    },
    {
     "data": {
      "image/png": "[encoded data removed]",
      "text/plain": [
       "<matplotlib.figure.Figure at 0xa63c970>"
      ]
     },
     "metadata": {},
     "output_type": "display_data"
    }
   ],
   "source": [
    "from sklearn import datasets\n",
    "digits = datasets.load_digits() # load the dataset\n",
    "X = digits.data\n",
    "X = X/16\n",
    "y = digits.target\n",
    "print(X.shape)\n",
    "print(y.shape)\n",
    "\n",
    "\n",
    "i = 47;\n",
    "plt.imshow(X[i,:].reshape(8,8),interpolation='nearest',cmap='gray')\n",
    "plt.title(y[i])\n",
    "plt.show()"
   ]
  },
  {
   "cell_type": "markdown",
   "metadata": {},
   "source": [
    "### Classify '1' against the rest \n",
    "\n",
    "Use logistic regression to learn a classifier for the digit of '1' (y=1). Any other digits, should be classified by this model as '0'.\n",
    "\n",
    "Learn the model on 80% of the data and test it on the rest of the 20%. \n",
    "\n",
    "Count how many training examples and how many testing examples the model identified correctly and wrongly.\n",
    "\n",
    "Plot a few examples for each case (wrongly vs. correctly)."
   ]
  },
  {
   "cell_type": "code",
   "execution_count": 11,
   "metadata": {
    "collapsed": false
   },
   "outputs": [
    {
     "data": {
      "image/png": "[encoded data removed]",
      "text/plain": [
       "<matplotlib.figure.Figure at 0xa862cd0>"
      ]
     },
     "metadata": {},
     "output_type": "display_data"
    }
   ],
   "source": [
    "# your code here..\n",
    "#splitting the data 50/50\n",
    "x_trn = X[::2] # 0,2,4,6,...\n",
    "y_trn = y[::2]\n",
    "\n",
    "x_tst = X[1::2] # 1,3,5,7,...\n",
    "y_tst = y[1::2]\n",
    "\n",
    "#print(\"The digit that i want to predict is :\" + y_tst[47])\n",
    "\n",
    "#class k vs all\n",
    "def y_preprocess(y_trn, classifie_by):\n",
    "    y_trn_size = len(y_trn)\n",
    "    y = np.zeros(y_trn_size)\n",
    "    for i in range(y_trn_size): \n",
    "        if(y_trn[i] ==  classifie_by):\n",
    "            y[i] = 1\n",
    "        else:\n",
    "            y[i] = 0 \n",
    "    return y\n",
    "\n",
    "def calc_sigmoid(z):\n",
    "    sigmoid=1/(1 + np.exp(-z))\n",
    "    return sigmoid\n",
    "\n",
    "def calac_cost(x, y, w, N):\n",
    "    x_trans = x.transpose()\n",
    "    z = np.dot(w,x_trans)\n",
    "    y_hat = calc_sigmoid(z)\n",
    "    j = 1/N * sum(-y * np.log(y_hat) + (1 - y) * np.log(1 - y_hat)) \n",
    "    return j\n",
    "\n",
    "\n",
    "def gradient_descent (x, y , alpha ,number_of_iteration):\n",
    "    j = np.zeros(number_of_iteration) # to hold the cost function value J at each iteration\n",
    "    N,d = X.shape\n",
    "    w = np.zeros(d)\n",
    "\n",
    "    for i in range(number_of_iteration):\n",
    "        x_trans = x.transpose()\n",
    "        z= np.dot(w,x_trans)\n",
    "        y_hat = calc_sigmoid(z)\n",
    "        w = w - alpha * (np.dot(x_trans,y_hat - y))\n",
    "        j[i] = calac_cost(x, y, w, N)\n",
    "    return w,j\n",
    "    \n",
    "def predict(x,w):\n",
    "    x_trans = x.transpose()\n",
    "    z = np.dot(w,x_trans)\n",
    "    predection = calc_sigmoid(z)\n",
    "    return predection\n",
    "\n",
    "\n",
    "alpha = 0.00001\n",
    "number_of_iteration = 100000\n",
    "\n",
    "i = 49;\n",
    "plt.imshow(x_tst[i,:].reshape(8,8),interpolation='nearest',cmap='gray')\n",
    "plt.title(y_tst[49])\n",
    "plt.show()\n",
    "\n",
    "#class k vs all \n",
    "y_1 = y_preprocess(y_trn, classifie_by = 1)\n",
    "w,j = gradient_descent(x_trn, y_1 , alpha , number_of_iteration) \n",
    "f1 = predict(x_tst[47], w)"
   ]
  },
  {
   "cell_type": "markdown",
   "metadata": {},
   "source": [
    "### Classify '2' against the rest, and so on..\n",
    "\n",
    "\n",
    "Continue and learn one classifier for each of the digits (0-9). Make sure that your algorithm converged in each one of them.\n",
    "\n",
    "Now that you have 10 binary classifiers, one for each digit, lets use them as a multi-class classifier. The multi-class classifier will return $y_i\\in\\{0,1,2,...,9\\}$ corresponding to the binary classifier with the highest output.\n",
    "\n",
    "Summarize your results on the (80%) training data and on the (20%) testing data using a *confusion matrix* $M$.\n",
    "\n",
    "Where $M_{i,j}$ counts how many examples with true label $y=i$ were classified as $j$.\n",
    "\n",
    "see also: <https://en.wikipedia.org/wiki/Confusion_matrix>"
   ]
  },
  {
   "cell_type": "code",
   "execution_count": 12,
   "metadata": {
    "collapsed": false
   },
   "outputs": [
    {
     "name": "stdout",
     "output_type": "stream",
     "text": [
      "classifier for y = 0 : 2.62696203641e-06\n",
      "classifier for y = 1 : 0.784772975457\n",
      "classifier for y = 2 : 0.000207638292075\n",
      "classifier for y = 3 : 1.88137520317e-05\n",
      "classifier for y = 4 : 0.142559107637\n",
      "classifier for y = 5 : 0.000273285617189\n",
      "classifier for y = 6 : 0.00294090226258\n",
      "classifier for y = 7 : 0.000154798477603\n",
      "classifier for y = 8 : 0.00220952365523\n",
      "classifier for y = 9 : 1.07425457443e-05\n",
      "0.784772975457\n"
     ]
    }
   ],
   "source": [
    "y_2 = y_preprocess(y_trn, classifie_by = 2)\n",
    "w2,j2 = gradient_descent(x_trn, y_2 , alpha , number_of_iteration)\n",
    "f2 = predict(x_tst[49],w2)\n",
    "\n",
    "\n",
    "y_3 = y_preprocess(y_trn, classifie_by = 3)\n",
    "w3,j3 = gradient_descent(x_trn, y_3 , alpha , number_of_iteration)\n",
    "f3 = predict(x_tst[49],w3)\n",
    "\n",
    "\n",
    "y_4 = y_preprocess(y_trn, classifie_by = 4)\n",
    "w4,j4 = gradient_descent(x_trn, y_4 , alpha , number_of_iteration)\n",
    "f4 = predict(x_tst[49],w4)\n",
    "\n",
    "\n",
    "\n",
    "y_5 = y_preprocess(y_trn, classifie_by = 5)\n",
    "w5,j5 = gradient_descent(x_trn, y_5 , alpha , number_of_iteration)\n",
    "f5 = predict(x_tst[49],w5)\n",
    "\n",
    "\n",
    "\n",
    "y_6 = y_preprocess(y_trn, classifie_by = 6)\n",
    "w6,j6 = gradient_descent(x_trn, y_6 , alpha , number_of_iteration)\n",
    "f6 = predict(x_tst[49],w6)\n",
    "\n",
    "\n",
    "\n",
    "y_7 = y_preprocess(y_trn, classifie_by = 7)\n",
    "w7,j7 = gradient_descent(x_trn, y_7 , alpha , number_of_iteration)\n",
    "f7 = predict(x_tst[49],w7)\n",
    "\n",
    "\n",
    "\n",
    "y_8 = y_preprocess(y_trn, classifie_by = 8)\n",
    "w8,j8 = gradient_descent(x_trn, y_8 , alpha , number_of_iteration)\n",
    "f8 = predict(x_tst[49],w8)\n",
    "\n",
    "\n",
    "\n",
    "y_9 = y_preprocess(y_trn, classifie_by = 9)\n",
    "w9,j9 = gradient_descent(x_trn, y_9 , alpha , number_of_iteration)\n",
    "f9 = predict(x_tst[49],w9)\n",
    "\n",
    "\n",
    "\n",
    "y_0 = y_preprocess(y_trn, classifie_by = 0)\n",
    "w0,j0 = gradient_descent(x_trn, y_0 , alpha , number_of_iteration)\n",
    "f0 = predict(x_tst[49],w0)\n",
    "\n",
    "\n",
    "result = max(f1 ,f2 ,f3 ,f4, f5, f6, f7, f8, f9, f0)\n",
    "\n",
    "print('classifier for y = 0 :' , f0)\n",
    "print('classifier for y = 1 :' , f1)\n",
    "print('classifier for y = 2 :' , f2)\n",
    "print('classifier for y = 3 :' , f3)\n",
    "print('classifier for y = 4 :' , f4)\n",
    "print('classifier for y = 5 :' , f5)\n",
    "print('classifier for y = 6 :' , f6)\n",
    "print('classifier for y = 7 :' , f7)\n",
    "print('classifier for y = 8 :' , f8)\n",
    "print('classifier for y = 9 :' , f9)\n",
    "\n",
    "print(result)"
   ]
  },
  {
   "cell_type": "markdown",
   "metadata": {},
   "source": [
    "## Good luck !"
   ]
  }
 ],
 "metadata": {
  "anaconda-cloud": {},
  "kernelspec": {
   "display_name": "Python 3",
   "language": "python",
   "name": "python3"
  },
  "language_info": {
   "codemirror_mode": {
    "name": "ipython",
    "version": 3
   },
   "file_extension": ".py",
   "mimetype": "text/x-python",
   "name": "python",
   "nbconvert_exporter": "python",
   "pygments_lexer": "ipython3",
   "version": "3.6.0"
  }
 },
 "nbformat": 4,
 "nbformat_minor": 0
}
